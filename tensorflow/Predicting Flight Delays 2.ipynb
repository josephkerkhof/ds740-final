{
 "cells": [
  {
   "cell_type": "code",
   "execution_count": 1,
   "metadata": {},
   "outputs": [
    {
     "name": "stdout",
     "output_type": "stream",
     "text": [
      "2.1.0\n"
     ]
    }
   ],
   "source": [
    "import os\n",
    "import pathlib\n",
    "import matplotlib.pyplot as plt\n",
    "import numpy as np\n",
    "import pandas as pd\n",
    "import seaborn as sns\n",
    "import tensorflow as tf\n",
    "from tensorflow import keras\n",
    "from tensorflow.keras import layers\n",
    "\n",
    "import tensorflow_docs as tfdocs\n",
    "import tensorflow_docs.plots\n",
    "import tensorflow_docs.modeling\n",
    "from sklearn.model_selection import train_test_split\n",
    "\n",
    "# tf version check\n",
    "print(tf.__version__)\n",
    "\n",
    "# setting the random seed\n",
    "tf.random.set_seed(1000)"
   ]
  },
  {
   "cell_type": "markdown",
   "metadata": {},
   "source": [
    "# Loading the Data"
   ]
  },
  {
   "cell_type": "code",
   "execution_count": 2,
   "metadata": {},
   "outputs": [
    {
     "data": {
      "text/plain": [
       "1191331"
      ]
     },
     "execution_count": 2,
     "metadata": {},
     "output_type": "execute_result"
    }
   ],
   "source": [
    "raw_jan19 = pd.read_csv(\"../data/Jan_2019_ontime.csv\")\n",
    "raw_jan20 = pd.read_csv(\"../data/Jan_2020_ontime.csv\")\n",
    "df = pd.concat([raw_jan19, raw_jan20], ignore_index=True)\n",
    "df = df.drop(columns = 'Unnamed: 21') # unnecessary\n",
    "\n",
    "# number of rows in the combined dataframe\n",
    "nrows_org = df.shape[0]\n",
    "nrows_org"
   ]
  },
  {
   "cell_type": "markdown",
   "metadata": {},
   "source": [
    "# Cleaning the Data"
   ]
  },
  {
   "cell_type": "markdown",
   "metadata": {},
   "source": [
    "Does this data have any missing values?"
   ]
  },
  {
   "cell_type": "code",
   "execution_count": 3,
   "metadata": {},
   "outputs": [
    {
     "data": {
      "text/plain": [
       "DAY_OF_MONTH                 0\n",
       "DAY_OF_WEEK                  0\n",
       "OP_UNIQUE_CARRIER            0\n",
       "OP_CARRIER_AIRLINE_ID        0\n",
       "OP_CARRIER                   0\n",
       "TAIL_NUM                  3241\n",
       "OP_CARRIER_FL_NUM            0\n",
       "ORIGIN_AIRPORT_ID            0\n",
       "ORIGIN_AIRPORT_SEQ_ID        0\n",
       "ORIGIN                       0\n",
       "DEST_AIRPORT_ID              0\n",
       "DEST_AIRPORT_SEQ_ID          0\n",
       "DEST                         0\n",
       "DEP_TIME                 23016\n",
       "DEP_DEL15                23054\n",
       "DEP_TIME_BLK                 0\n",
       "ARR_TIME                 24136\n",
       "ARR_DEL15                26100\n",
       "CANCELLED                    0\n",
       "DIVERTED                     0\n",
       "DISTANCE                     0\n",
       "dtype: int64"
      ]
     },
     "execution_count": 3,
     "metadata": {},
     "output_type": "execute_result"
    }
   ],
   "source": [
    "df.isna().sum()"
   ]
  },
  {
   "cell_type": "markdown",
   "metadata": {},
   "source": [
    "There are several rows with missing values, so let's clean that up and remove them."
   ]
  },
  {
   "cell_type": "code",
   "execution_count": 4,
   "metadata": {},
   "outputs": [
    {
     "data": {
      "text/plain": [
       "26100"
      ]
     },
     "execution_count": 4,
     "metadata": {},
     "output_type": "execute_result"
    }
   ],
   "source": [
    "df = df.dropna()\n",
    "nrows_rm_na = df.shape[0]\n",
    "nrows_org - nrows_rm_na # let's see how many rows we lost"
   ]
  },
  {
   "cell_type": "markdown",
   "metadata": {},
   "source": [
    "26100 rows removed is not bad. This leaves plenty (over 1 million) of complete data for us to work with."
   ]
  },
  {
   "cell_type": "markdown",
   "metadata": {},
   "source": [
    "Now let's remove the columns from the dataset that don't provide much value to our purposes."
   ]
  },
  {
   "cell_type": "code",
   "execution_count": 5,
   "metadata": {},
   "outputs": [],
   "source": [
    "cols_to_keep = [\n",
    "    \"DAY_OF_WEEK\",\n",
    "    \"OP_CARRIER\",\n",
    "    \"ORIGIN\",\n",
    "    \"DEP_DEL15\",\n",
    "    \"DEP_TIME_BLK\",\n",
    "    \"DISTANCE\"\n",
    "]\n",
    "df = df[cols_to_keep]"
   ]
  },
  {
   "cell_type": "markdown",
   "metadata": {},
   "source": [
    "# Exploring our data\n",
    "\n",
    "We want to look for some hints on which variables are important."
   ]
  },
  {
   "cell_type": "markdown",
   "metadata": {},
   "source": [
    "### Worst Delayed Airports\n",
    "\n",
    "Let's see which airports have the worst ratio of flight delays to total flights."
   ]
  },
  {
   "cell_type": "code",
   "execution_count": 6,
   "metadata": {},
   "outputs": [
    {
     "data": {
      "text/plain": [
       "[Text(0, 0.5, 'Airports'),\n",
       " Text(0.5, 0, 'Proportion of Delayed Flights'),\n",
       " Text(0.5, 1.0, 'Top 10 Most Likely Delayed Airports')]"
      ]
     },
     "execution_count": 6,
     "metadata": {},
     "output_type": "execute_result"
    },
    {
     "data": {
      "image/png": "[encoded data removed]",
      "text/plain": [
       "<Figure size 432x288 with 1 Axes>"
      ]
     },
     "metadata": {
      "needs_background": "light"
     },
     "output_type": "display_data"
    }
   ],
   "source": [
    "delays = df[df[\"DEP_DEL15\"]==1][\"ORIGIN\"].value_counts()\n",
    "total = df[\"ORIGIN\"].value_counts()\n",
    "proportion = (delays / total).sort_values(ascending = False)\n",
    "ax = proportion.head(10).plot.barh()\n",
    "ax.set(ylabel='Airports', xlabel='Proportion of Delayed Flights', title=\"Top 10 Most Likely Delayed Airports\")"
   ]
  },
  {
   "cell_type": "markdown",
   "metadata": {},
   "source": [
    "Now let's see which airports have the most delays overall."
   ]
  },
  {
   "cell_type": "code",
   "execution_count": 7,
   "metadata": {},
   "outputs": [
    {
     "data": {
      "text/plain": [
       "[Text(0, 0.5, 'Airports'),\n",
       " Text(0.5, 0, 'Count of Delayed Flights'),\n",
       " Text(0.5, 1.0, 'Top 10 Most Delayed Airports')]"
      ]
     },
     "execution_count": 7,
     "metadata": {},
     "output_type": "execute_result"
    },
    {
     "data": {
      "image/png": "[encoded data removed]",
      "text/plain": [
       "<Figure size 432x288 with 1 Axes>"
      ]
     },
     "metadata": {
      "needs_background": "light"
     },
     "output_type": "display_data"
    }
   ],
   "source": [
    "ax = delays.head(10).plot.barh()\n",
    "ax.set(ylabel='Airports', xlabel='Count of Delayed Flights', title=\"Top 10 Most Delayed Airports\")"
   ]
  },
  {
   "cell_type": "markdown",
   "metadata": {},
   "source": [
    "It's not much of a surprise that these busy airports have lots of delays. Lots of flights mean a higher quantity of delays. Still, it does seem that ORD (Chicago O'Hare) has more delays than usual for it's busy counter-airports."
   ]
  },
  {
   "cell_type": "markdown",
   "metadata": {},
   "source": [
    "### Time of Day for Delays\n",
    "\n",
    "Let's see if time of day has any association with delayed flights."
   ]
  },
  {
   "cell_type": "code",
   "execution_count": 8,
   "metadata": {},
   "outputs": [
    {
     "data": {
      "text/plain": [
       "[Text(0, 0.5, 'Time Block'),\n",
       " Text(0.5, 0, 'Proportion of Delayed Flights'),\n",
       " Text(0.5, 1.0, 'Delayed Flights by Time of Day')]"
      ]
     },
     "execution_count": 8,
     "metadata": {},
     "output_type": "execute_result"
    },
    {
     "data": {
      "image/png": "[encoded data removed]",
      "text/plain": [
       "<Figure size 432x288 with 1 Axes>"
      ]
     },
     "metadata": {
      "needs_background": "light"
     },
     "output_type": "display_data"
    }
   ],
   "source": [
    "ax = sns.barplot(x=\"DEP_DEL15\", y=\"DEP_TIME_BLK\", data=df.sort_values('DEP_TIME_BLK'))\n",
    "ax.set(ylabel='Time Block', xlabel='Proportion of Delayed Flights', title=\"Delayed Flights by Time of Day\")"
   ]
  },
  {
   "cell_type": "markdown",
   "metadata": {},
   "source": [
    "It seems that flights are less likely to be delayed in the morning and more likely to be delayed into the afternoon and peaking in the early evening. Because flights in the afternoon are using airplanes that have already flown once or twice earlier in the day, this graph makes sense. The risk of a flight delay increases with each previous flight during the day."
   ]
  },
  {
   "cell_type": "markdown",
   "metadata": {},
   "source": [
    "# Preparing for Training\n",
    "\n",
    "Now we'll prepare our data one last time before training the model."
   ]
  },
  {
   "cell_type": "markdown",
   "metadata": {},
   "source": [
    "Let's split the data into train, test, and validation sets."
   ]
  },
  {
   "cell_type": "code",
   "execution_count": 9,
   "metadata": {},
   "outputs": [
    {
     "name": "stdout",
     "output_type": "stream",
     "text": [
      "745747 train examples\n",
      "186437 validation examples\n",
      "233047 test examples\n"
     ]
    }
   ],
   "source": [
    "# train, test = train_test_split(df, test_size=0.2)\n",
    "train, val = train_test_split(df, test_size=0.2)\n",
    "print(len(train), 'train examples')\n",
    "print(len(val), 'validation examples')\n",
    "# print(len(test), 'test examples')"
   ]
  },
  {
   "cell_type": "markdown",
   "metadata": {},
   "source": [
    "Now, we'll convert the pandas dataset into a dataset that tensorflow can use. This allows us to use feature columns."
   ]
  },
  {
   "cell_type": "code",
   "execution_count": 10,
   "metadata": {},
   "outputs": [],
   "source": [
    "# A utility method to create a tf.data dataset from a Pandas Dataframe\n",
    "def df_to_dataset(dataframe, shuffle=True, batch_size=32):\n",
    "    dataframe = dataframe.copy()\n",
    "    labels = dataframe.pop('DEP_DEL15')\n",
    "    ds = tf.data.Dataset.from_tensor_slices((dict(dataframe), labels))\n",
    "    if shuffle:\n",
    "        ds = ds.shuffle(buffer_size=len(dataframe))\n",
    "    ds = ds.batch(batch_size)\n",
    "    return ds\n",
    "\n",
    "batch_size = 5 # A small batch sized is used for demonstration purposes\n",
    "\n",
    "train_ds = df_to_dataset(train, batch_size=batch_size)\n",
    "val_ds = df_to_dataset(val, shuffle=False, batch_size=batch_size)\n",
    "# test_ds = df_to_dataset(test, shuffle=False, batch_size=batch_size)"
   ]
  },
  {
   "cell_type": "markdown",
   "metadata": {},
   "source": [
    "# Understand the Input\n",
    "\n",
    "Let's the check the format of the data in the input pipeline."
   ]
  },
  {
   "cell_type": "code",
   "execution_count": 11,
   "metadata": {},
   "outputs": [
    {
     "name": "stdout",
     "output_type": "stream",
     "text": [
      "Every feature: ['DAY_OF_WEEK', 'OP_CARRIER', 'ORIGIN', 'DEP_TIME_BLK', 'DISTANCE']\n",
      "A batch of origins: tf.Tensor([b'FLL' b'CLT' b'IAH' b'BOS' b'HNL'], shape=(5,), dtype=string)\n",
      "A batch of delayed flights: tf.Tensor([0. 0. 0. 0. 0.], shape=(5,), dtype=float64)\n"
     ]
    }
   ],
   "source": [
    "for feature_batch, label_batch in train_ds.take(1):\n",
    "    print('Every feature:', list(feature_batch.keys()))\n",
    "    print('A batch of origins:', feature_batch['ORIGIN'])\n",
    "    print('A batch of delayed flights:', label_batch )"
   ]
  },
  {
   "cell_type": "markdown",
   "metadata": {},
   "source": [
    "Now we'll construct feature columns that we'll use to pass into the model-building process. We'll also build a feature layer.\n",
    "\n",
    "To do this, we'll use `DISTANCE` as a numerical tensor and the others set to [one-hot](https://en.wikipedia.org/wiki/One-hot) categorical tensors."
   ]
  },
  {
   "cell_type": "code",
   "execution_count": 12,
   "metadata": {},
   "outputs": [],
   "source": [
    "feature_columns = []\n",
    "\n",
    "# adding numeric columns\n",
    "distance = tf.feature_column.numeric_column(\"DISTANCE\")\n",
    "feature_columns.append(distance)\n",
    "\n",
    "# adding categorical columns\n",
    "origin = tf.feature_column.categorical_column_with_vocabulary_list(\n",
    "      \"ORIGIN\", pd.unique(df.ORIGIN))\n",
    "origin_one_hot = tf.feature_column.indicator_column(origin)\n",
    "feature_columns.append(origin_one_hot)\n",
    "\n",
    "carrier = tf.feature_column.categorical_column_with_vocabulary_list(\n",
    "      \"OP_CARRIER\", pd.unique(df.OP_CARRIER))\n",
    "carrier_one_hot = tf.feature_column.indicator_column(carrier)\n",
    "feature_columns.append(carrier_one_hot)\n",
    "\n",
    "time_blk = tf.feature_column.categorical_column_with_vocabulary_list(\n",
    "      \"DEP_TIME_BLK\", pd.unique(df.DEP_TIME_BLK))\n",
    "time_blk_one_hot = tf.feature_column.indicator_column(time_blk)\n",
    "feature_columns.append(time_blk_one_hot)\n",
    "\n",
    "day_of_week = tf.feature_column.categorical_column_with_vocabulary_list(\n",
    "      \"DAY_OF_WEEK\", pd.unique(df.DAY_OF_WEEK))\n",
    "day_of_week_one_hot = tf.feature_column.indicator_column(day_of_week)\n",
    "feature_columns.append(day_of_week_one_hot)\n",
    "\n",
    "feature_layer = tf.keras.layers.DenseFeatures(feature_columns)"
   ]
  },
  {
   "cell_type": "markdown",
   "metadata": {},
   "source": [
    "Now, we'll set our batch size and prepare our datasets."
   ]
  },
  {
   "cell_type": "code",
   "execution_count": 13,
   "metadata": {},
   "outputs": [],
   "source": [
    "batch_size = 32\n",
    "train_ds = df_to_dataset(train, batch_size=batch_size)\n",
    "val_ds = df_to_dataset(val, shuffle=False, batch_size=batch_size)\n",
    "# test_ds = df_to_dataset(test, shuffle=False, batch_size=batch_size)"
   ]
  },
  {
   "cell_type": "markdown",
   "metadata": {},
   "source": [
    "# Train the Model\n",
    "\n",
    "We'll train the Neural Network model with two densely connected hidden layers of 16 nodes using the Rectified Linear Unit activation function and Binary Cross-Entropy loss function (because we are issuing a single probability as our output node) with the Adam optimizer.\n",
    "\n",
    "These settings were found with some trial and error and produced the best accuracy."
   ]
  },
  {
   "cell_type": "code",
   "execution_count": 14,
   "metadata": {},
   "outputs": [
    {
     "name": "stdout",
     "output_type": "stream",
     "text": [
      "WARNING:tensorflow:From /usr/local/lib/python3.6/dist-packages/tensorflow_core/python/feature_column/feature_column_v2.py:4267: IndicatorColumn._variable_shape (from tensorflow.python.feature_column.feature_column_v2) is deprecated and will be removed in a future version.\n",
      "Instructions for updating:\n",
      "The old _FeatureColumn APIs are being deprecated. Please use the new FeatureColumn APIs instead.\n",
      "WARNING:tensorflow:From /usr/local/lib/python3.6/dist-packages/tensorflow_core/python/feature_column/feature_column_v2.py:4322: VocabularyListCategoricalColumn._num_buckets (from tensorflow.python.feature_column.feature_column_v2) is deprecated and will be removed in a future version.\n",
      "Instructions for updating:\n",
      "The old _FeatureColumn APIs are being deprecated. Please use the new FeatureColumn APIs instead.\n",
      "Train for 23305 steps, validate for 5827 steps\n",
      "Epoch 1/5\n",
      "23305/23305 [==============================] - 122s 5ms/step - loss: 0.4437 - accuracy: 0.8439 - val_loss: 0.4204 - val_accuracy: 0.8458\n",
      "Epoch 2/5\n",
      "23305/23305 [==============================] - 124s 5ms/step - loss: 0.4210 - accuracy: 0.8456 - val_loss: 0.4162 - val_accuracy: 0.8458\n",
      "Epoch 3/5\n",
      "23305/23305 [==============================] - 124s 5ms/step - loss: 0.4189 - accuracy: 0.8456 - val_loss: 0.4175 - val_accuracy: 0.8458\n",
      "Epoch 4/5\n",
      "23305/23305 [==============================] - 128s 6ms/step - loss: 0.4180 - accuracy: 0.8456 - val_loss: 0.4161 - val_accuracy: 0.8458\n",
      "Epoch 5/5\n",
      "23305/23305 [==============================] - 127s 5ms/step - loss: 0.4177 - accuracy: 0.8456 - val_loss: 0.4192 - val_accuracy: 0.8458\n"
     ]
    },
    {
     "data": {
      "text/plain": [
       "<tensorflow.python.keras.callbacks.History at 0x7f8e8b3a7b38>"
      ]
     },
     "execution_count": 14,
     "metadata": {},
     "output_type": "execute_result"
    }
   ],
   "source": [
    "model = tf.keras.Sequential([\n",
    "    feature_layer,\n",
    "    layers.Dense(16, activation='relu'),\n",
    "    layers.Dense(16, activation='relu'),\n",
    "    layers.Dense(1)\n",
    "])\n",
    "\n",
    "model.compile(optimizer='adam',\n",
    "    loss=tf.keras.losses.BinaryCrossentropy(from_logits=True),\n",
    "    metrics=['accuracy'])\n",
    "\n",
    "model.fit(train_ds,\n",
    "    validation_data=val_ds,\n",
    "    epochs=5)"
   ]
  }
 ],
 "metadata": {
  "kernelspec": {
   "display_name": "Python 3",
   "language": "python",
   "name": "python3"
  },
  "language_info": {
   "codemirror_mode": {
    "name": "ipython",
    "version": 3
   },
   "file_extension": ".py",
   "mimetype": "text/x-python",
   "name": "python",
   "nbconvert_exporter": "python",
   "pygments_lexer": "ipython3",
   "version": "3.6.9"
  }
 },
 "nbformat": 4,
 "nbformat_minor": 4
}
