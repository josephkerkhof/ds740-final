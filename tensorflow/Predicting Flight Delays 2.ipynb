{
 "cells": [
  {
   "cell_type": "code",
   "execution_count": 1,
   "metadata": {},
   "outputs": [
    {
     "name": "stdout",
     "output_type": "stream",
     "text": [
      "2.1.0\n"
     ]
    }
   ],
   "source": [
    "import os\n",
    "import pathlib\n",
    "import matplotlib.pyplot as plt\n",
    "import numpy as np\n",
    "import pandas as pd\n",
    "import seaborn as sns\n",
    "import tensorflow as tf\n",
    "from tensorflow import keras\n",
    "from tensorflow.keras import layers\n",
    "\n",
    "import tensorflow_docs as tfdocs\n",
    "import tensorflow_docs.plots\n",
    "import tensorflow_docs.modeling\n",
    "\n",
    "# tf version check\n",
    "print(tf.__version__)"
   ]
  },
  {
   "cell_type": "markdown",
   "metadata": {},
   "source": [
    "# Loading the Data"
   ]
  },
  {
   "cell_type": "code",
   "execution_count": 2,
   "metadata": {},
   "outputs": [
    {
     "data": {
      "text/plain": [
       "1191331"
      ]
     },
     "execution_count": 2,
     "metadata": {},
     "output_type": "execute_result"
    }
   ],
   "source": [
    "raw_jan19 = pd.read_csv(\"../data/Jan_2019_ontime.csv\")\n",
    "raw_jan20 = pd.read_csv(\"../data/Jan_2020_ontime.csv\")\n",
    "df = pd.concat([raw_jan19, raw_jan20], ignore_index=True)\n",
    "df = df.drop(columns = 'Unnamed: 21') # unnecessary\n",
    "\n",
    "# number of rows in the combined dataframe\n",
    "nrows_org = df.shape[0]\n",
    "nrows_org"
   ]
  },
  {
   "cell_type": "markdown",
   "metadata": {},
   "source": [
    "# Cleaning the Data"
   ]
  },
  {
   "cell_type": "markdown",
   "metadata": {},
   "source": [
    "Does this data have any missing values?"
   ]
  },
  {
   "cell_type": "code",
   "execution_count": 3,
   "metadata": {},
   "outputs": [
    {
     "data": {
      "text/plain": [
       "DAY_OF_MONTH                 0\n",
       "DAY_OF_WEEK                  0\n",
       "OP_UNIQUE_CARRIER            0\n",
       "OP_CARRIER_AIRLINE_ID        0\n",
       "OP_CARRIER                   0\n",
       "TAIL_NUM                  3241\n",
       "OP_CARRIER_FL_NUM            0\n",
       "ORIGIN_AIRPORT_ID            0\n",
       "ORIGIN_AIRPORT_SEQ_ID        0\n",
       "ORIGIN                       0\n",
       "DEST_AIRPORT_ID              0\n",
       "DEST_AIRPORT_SEQ_ID          0\n",
       "DEST                         0\n",
       "DEP_TIME                 23016\n",
       "DEP_DEL15                23054\n",
       "DEP_TIME_BLK                 0\n",
       "ARR_TIME                 24136\n",
       "ARR_DEL15                26100\n",
       "CANCELLED                    0\n",
       "DIVERTED                     0\n",
       "DISTANCE                     0\n",
       "dtype: int64"
      ]
     },
     "execution_count": 3,
     "metadata": {},
     "output_type": "execute_result"
    }
   ],
   "source": [
    "df.isna().sum()"
   ]
  },
  {
   "cell_type": "markdown",
   "metadata": {},
   "source": [
    "There are several rows with missing values, so let's clean that up and remove them."
   ]
  },
  {
   "cell_type": "code",
   "execution_count": 4,
   "metadata": {},
   "outputs": [
    {
     "data": {
      "text/plain": [
       "26100"
      ]
     },
     "execution_count": 4,
     "metadata": {},
     "output_type": "execute_result"
    }
   ],
   "source": [
    "df = df.dropna()\n",
    "nrows_rm_na = df.shape[0]\n",
    "nrows_org - nrows_rm_na # let's see how many rows we lost"
   ]
  },
  {
   "cell_type": "markdown",
   "metadata": {},
   "source": [
    "26100 rows removed is not bad. This leaves plenty of complete data for us to work with."
   ]
  },
  {
   "cell_type": "markdown",
   "metadata": {},
   "source": [
    "Now let's remove the columns from the dataset that don't provide much value to our purposes."
   ]
  },
  {
   "cell_type": "code",
   "execution_count": 5,
   "metadata": {},
   "outputs": [],
   "source": [
    "cols_to_keep = [\n",
    "    \"DAY_OF_WEEK\",\n",
    "    \"OP_CARRIER\",\n",
    "    \"ORIGIN\",\n",
    "    \"DEP_DEL15\",\n",
    "    \"DEP_TIME_BLK\",\n",
    "    \"DISTANCE\"\n",
    "]\n",
    "df = df[cols_to_keep]"
   ]
  },
  {
   "cell_type": "markdown",
   "metadata": {},
   "source": [
    "Let's convert the distance column in to something more useful, like short, medium, and long haul flights. These are [common labels](https://en.wikipedia.org/wiki/Flight_length) for each flight's distance.\n",
    "\n",
    "@TODO: figure out if this is needed. Miles for length of flight might be a better indicator."
   ]
  },
  {
   "cell_type": "code",
   "execution_count": 6,
   "metadata": {},
   "outputs": [],
   "source": [
    "# df[\"F_LENGTH\"] = \"Long\"\n",
    "# df.loc[(df[\"DISTANCE\"] >= 800) & (df[\"DISTANCE\"] <= 2200), \"F_LENGTH\"] = \"Medium\"\n",
    "# df.loc[(df[\"DISTANCE\"] < 800), \"F_LENGTH\"] = \"Short\""
   ]
  },
  {
   "cell_type": "code",
   "execution_count": 7,
   "metadata": {},
   "outputs": [],
   "source": [
    "df[\"DEP_TIME_BLK_FACT\"] = df[\"DEP_TIME_BLK\"].replace(\n",
    "    to_replace=[\n",
    "        '0001-0005', '0600-0659', '0700-0759', '0800-0859', '0900-0959', '1000-1059', '1100-1159', '1200-1259',\n",
    "        '1300-1359', '1400-1459', '1500-1559', '1600-1659', '1700-1759', '1800-1859', '1900-1959', '2000-2059',\n",
    "        '2100-2159', '2200-2259', '2300-2359'\n",
    "    ],\n",
    "    value=[0, 1, 2, 3, 4, 5, 6, 7, 8, 9, 10, 11, 12, 13, 14, 15, 16, 17, 18]\n",
    ")"
   ]
  },
  {
   "cell_type": "code",
   "execution_count": 8,
   "metadata": {},
   "outputs": [
    {
     "data": {
      "text/html": [
       "<div>\n",
       "<style scoped>\n",
       "    .dataframe tbody tr th:only-of-type {\n",
       "        vertical-align: middle;\n",
       "    }\n",
       "\n",
       "    .dataframe tbody tr th {\n",
       "        vertical-align: top;\n",
       "    }\n",
       "\n",
       "    .dataframe thead th {\n",
       "        text-align: right;\n",
       "    }\n",
       "</style>\n",
       "<table border=\"1\" class=\"dataframe\">\n",
       "  <thead>\n",
       "    <tr style=\"text-align: right;\">\n",
       "      <th></th>\n",
       "      <th>DAY_OF_WEEK</th>\n",
       "      <th>OP_CARRIER</th>\n",
       "      <th>ORIGIN</th>\n",
       "      <th>DEP_DEL15</th>\n",
       "      <th>DEP_TIME_BLK</th>\n",
       "      <th>DISTANCE</th>\n",
       "      <th>DEP_TIME_BLK_FACT</th>\n",
       "    </tr>\n",
       "  </thead>\n",
       "  <tbody>\n",
       "    <tr>\n",
       "      <th>0</th>\n",
       "      <td>2</td>\n",
       "      <td>9E</td>\n",
       "      <td>GNV</td>\n",
       "      <td>0.0</td>\n",
       "      <td>0600-0659</td>\n",
       "      <td>300.0</td>\n",
       "      <td>1</td>\n",
       "    </tr>\n",
       "    <tr>\n",
       "      <th>1</th>\n",
       "      <td>2</td>\n",
       "      <td>9E</td>\n",
       "      <td>MSP</td>\n",
       "      <td>0.0</td>\n",
       "      <td>1400-1459</td>\n",
       "      <td>596.0</td>\n",
       "      <td>9</td>\n",
       "    </tr>\n",
       "    <tr>\n",
       "      <th>2</th>\n",
       "      <td>2</td>\n",
       "      <td>9E</td>\n",
       "      <td>DTW</td>\n",
       "      <td>0.0</td>\n",
       "      <td>1200-1259</td>\n",
       "      <td>229.0</td>\n",
       "      <td>7</td>\n",
       "    </tr>\n",
       "    <tr>\n",
       "      <th>3</th>\n",
       "      <td>2</td>\n",
       "      <td>9E</td>\n",
       "      <td>TLH</td>\n",
       "      <td>0.0</td>\n",
       "      <td>1500-1559</td>\n",
       "      <td>223.0</td>\n",
       "      <td>10</td>\n",
       "    </tr>\n",
       "    <tr>\n",
       "      <th>4</th>\n",
       "      <td>2</td>\n",
       "      <td>9E</td>\n",
       "      <td>ATL</td>\n",
       "      <td>0.0</td>\n",
       "      <td>1900-1959</td>\n",
       "      <td>579.0</td>\n",
       "      <td>14</td>\n",
       "    </tr>\n",
       "  </tbody>\n",
       "</table>\n",
       "</div>"
      ],
      "text/plain": [
       "   DAY_OF_WEEK OP_CARRIER ORIGIN  DEP_DEL15 DEP_TIME_BLK  DISTANCE  \\\n",
       "0            2         9E    GNV        0.0    0600-0659     300.0   \n",
       "1            2         9E    MSP        0.0    1400-1459     596.0   \n",
       "2            2         9E    DTW        0.0    1200-1259     229.0   \n",
       "3            2         9E    TLH        0.0    1500-1559     223.0   \n",
       "4            2         9E    ATL        0.0    1900-1959     579.0   \n",
       "\n",
       "  DEP_TIME_BLK_FACT  \n",
       "0                 1  \n",
       "1                 9  \n",
       "2                 7  \n",
       "3                10  \n",
       "4                14  "
      ]
     },
     "execution_count": 8,
     "metadata": {},
     "output_type": "execute_result"
    }
   ],
   "source": [
    "df.head() # peeking at our cleaned data"
   ]
  },
  {
   "cell_type": "markdown",
   "metadata": {},
   "source": [
    "# Exploring our data\n",
    "\n",
    "We want to look for some hints on which variables are important."
   ]
  },
  {
   "cell_type": "markdown",
   "metadata": {},
   "source": [
    "### Worst Delayed Airports\n",
    "\n",
    "Let's see which airports have the worst ratio of flight delays to total flights."
   ]
  },
  {
   "cell_type": "code",
   "execution_count": 9,
   "metadata": {},
   "outputs": [
    {
     "data": {
      "text/plain": [
       "[Text(0, 0.5, 'Airports'),\n",
       " Text(0.5, 0, 'Proportion of Delayed Flights'),\n",
       " Text(0.5, 1.0, 'Top 10 Most Likely Delayed Airports')]"
      ]
     },
     "execution_count": 9,
     "metadata": {},
     "output_type": "execute_result"
    },
    {
     "data": {
      "image/png": "[encoded data removed]",
      "text/plain": [
       "<Figure size 432x288 with 1 Axes>"
      ]
     },
     "metadata": {
      "needs_background": "light"
     },
     "output_type": "display_data"
    }
   ],
   "source": [
    "delays = df[df[\"DEP_DEL15\"]==1][\"ORIGIN\"].value_counts()\n",
    "total = df[\"ORIGIN\"].value_counts()\n",
    "proportion = (delays / total).sort_values(ascending = False)\n",
    "ax = proportion.head(10).plot.barh()\n",
    "ax.set(ylabel='Airports', xlabel='Proportion of Delayed Flights', title=\"Top 10 Most Likely Delayed Airports\")"
   ]
  },
  {
   "cell_type": "markdown",
   "metadata": {},
   "source": [
    "Now let's see which airports have the most delays overall."
   ]
  },
  {
   "cell_type": "code",
   "execution_count": 10,
   "metadata": {},
   "outputs": [
    {
     "data": {
      "text/plain": [
       "[Text(17.200000000000003, 0.5, 'Airports'),\n",
       " Text(0.5, 17.200000000000003, 'Count of Delayed Flights'),\n",
       " Text(0.5, 1.0, 'Top 10 Most Delayed Airports')]"
      ]
     },
     "execution_count": 10,
     "metadata": {},
     "output_type": "execute_result"
    },
    {
     "data": {
      "image/png": "[encoded data removed]",
      "text/plain": [
       "<Figure size 432x288 with 1 Axes>"
      ]
     },
     "metadata": {
      "needs_background": "light"
     },
     "output_type": "display_data"
    }
   ],
   "source": [
    "delays.head(10).plot.barh()\n",
    "ax.set(ylabel='Airports', xlabel='Count of Delayed Flights', title=\"Top 10 Most Delayed Airports\")"
   ]
  },
  {
   "cell_type": "markdown",
   "metadata": {},
   "source": [
    "It's not much of a surprise that these busy airports have lots of delays. Lots of flights mean a higher quantity of delays. Still, it does seem that ORD (Chicago O'Hare) has more delays than usual for it's busy counter-airports."
   ]
  },
  {
   "cell_type": "markdown",
   "metadata": {},
   "source": [
    "### Time of Day for Delays\n",
    "\n",
    "Let's see if time of day has any association with delayed flights."
   ]
  },
  {
   "cell_type": "code",
   "execution_count": 24,
   "metadata": {},
   "outputs": [
    {
     "data": {
      "text/plain": [
       "[Text(0, 0.5, 'Time Block'),\n",
       " Text(0.5, 0, 'Proportion of Delayed Flights'),\n",
       " Text(0.5, 1.0, 'Delayed Flights by Time of Day')]"
      ]
     },
     "execution_count": 24,
     "metadata": {},
     "output_type": "execute_result"
    },
    {
     "data": {
      "image/png": "[encoded data removed]",
      "text/plain": [
       "<Figure size 432x288 with 1 Axes>"
      ]
     },
     "metadata": {},
     "output_type": "display_data"
    }
   ],
   "source": [
    "ax = sns.barplot(x=\"DEP_DEL15\", y=\"DEP_TIME_BLK\", data=df.sort_values('DEP_TIME_BLK'))\n",
    "ax.set(ylabel='Time Block', xlabel='Proportion of Delayed Flights', title=\"Delayed Flights by Time of Day\")"
   ]
  },
  {
   "cell_type": "markdown",
   "metadata": {},
   "source": [
    "It seems that flights are less likely to be delayed in the morning and more likely to be delayed into the afternoon and peaking in the early evening. Because flights in the afternoon are using airplanes that have already flown once or twice earlier in the day, this graph makes sense. The risk of a flight delay increases with each previous flight during the day."
   ]
  },
  {
   "cell_type": "markdown",
   "metadata": {},
   "source": [
    "# Preparing for Training\n",
    "\n",
    "Now we'll prepare our data one last time before training the model."
   ]
  },
  {
   "cell_type": "code",
   "execution_count": 26,
   "metadata": {},
   "outputs": [
    {
     "data": {
      "text/html": [
       "<div>\n",
       "<style scoped>\n",
       "    .dataframe tbody tr th:only-of-type {\n",
       "        vertical-align: middle;\n",
       "    }\n",
       "\n",
       "    .dataframe tbody tr th {\n",
       "        vertical-align: top;\n",
       "    }\n",
       "\n",
       "    .dataframe thead th {\n",
       "        text-align: right;\n",
       "    }\n",
       "</style>\n",
       "<table border=\"1\" class=\"dataframe\">\n",
       "  <thead>\n",
       "    <tr style=\"text-align: right;\">\n",
       "      <th></th>\n",
       "      <th>DAY_OF_WEEK</th>\n",
       "      <th>OP_CARRIER</th>\n",
       "      <th>ORIGIN</th>\n",
       "      <th>DEP_DEL15</th>\n",
       "      <th>DEP_TIME_BLK_FACT</th>\n",
       "      <th>DISTANCE</th>\n",
       "    </tr>\n",
       "  </thead>\n",
       "  <tbody>\n",
       "    <tr>\n",
       "      <th>0</th>\n",
       "      <td>2</td>\n",
       "      <td>9E</td>\n",
       "      <td>GNV</td>\n",
       "      <td>0.0</td>\n",
       "      <td>1</td>\n",
       "      <td>300.0</td>\n",
       "    </tr>\n",
       "    <tr>\n",
       "      <th>1</th>\n",
       "      <td>2</td>\n",
       "      <td>9E</td>\n",
       "      <td>MSP</td>\n",
       "      <td>0.0</td>\n",
       "      <td>9</td>\n",
       "      <td>596.0</td>\n",
       "    </tr>\n",
       "    <tr>\n",
       "      <th>2</th>\n",
       "      <td>2</td>\n",
       "      <td>9E</td>\n",
       "      <td>DTW</td>\n",
       "      <td>0.0</td>\n",
       "      <td>7</td>\n",
       "      <td>229.0</td>\n",
       "    </tr>\n",
       "    <tr>\n",
       "      <th>3</th>\n",
       "      <td>2</td>\n",
       "      <td>9E</td>\n",
       "      <td>TLH</td>\n",
       "      <td>0.0</td>\n",
       "      <td>10</td>\n",
       "      <td>223.0</td>\n",
       "    </tr>\n",
       "    <tr>\n",
       "      <th>4</th>\n",
       "      <td>2</td>\n",
       "      <td>9E</td>\n",
       "      <td>ATL</td>\n",
       "      <td>0.0</td>\n",
       "      <td>14</td>\n",
       "      <td>579.0</td>\n",
       "    </tr>\n",
       "  </tbody>\n",
       "</table>\n",
       "</div>"
      ],
      "text/plain": [
       "   DAY_OF_WEEK OP_CARRIER ORIGIN  DEP_DEL15 DEP_TIME_BLK_FACT  DISTANCE\n",
       "0            2         9E    GNV        0.0                 1     300.0\n",
       "1            2         9E    MSP        0.0                 9     596.0\n",
       "2            2         9E    DTW        0.0                 7     229.0\n",
       "3            2         9E    TLH        0.0                10     223.0\n",
       "4            2         9E    ATL        0.0                14     579.0"
      ]
     },
     "execution_count": 26,
     "metadata": {},
     "output_type": "execute_result"
    }
   ],
   "source": [
    "cols_to_keep = [\n",
    "    \"DAY_OF_WEEK\",\n",
    "    \"OP_CARRIER\",\n",
    "    \"ORIGIN\",\n",
    "    \"DEP_DEL15\",\n",
    "    \"DEP_TIME_BLK_FACT\",\n",
    "    \"DISTANCE\"\n",
    "]\n",
    "df = df[cols_to_keep]\n",
    "df.head()"
   ]
  },
  {
   "cell_type": "code",
   "execution_count": null,
   "metadata": {},
   "outputs": [],
   "source": []
  }
 ],
 "metadata": {
  "kernelspec": {
   "display_name": "Python 3",
   "language": "python",
   "name": "python3"
  },
  "language_info": {
   "codemirror_mode": {
    "name": "ipython",
    "version": 3
   },
   "file_extension": ".py",
   "mimetype": "text/x-python",
   "name": "python",
   "nbconvert_exporter": "python",
   "pygments_lexer": "ipython3",
   "version": "3.6.9"
  }
 },
 "nbformat": 4,
 "nbformat_minor": 4
}
